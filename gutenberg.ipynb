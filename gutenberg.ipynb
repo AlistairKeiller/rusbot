{
 "cells": [
  {
   "cell_type": "code",
   "execution_count": 45,
   "id": "6ad4bb83-fff8-4725-98dc-2f6a737d0d7e",
   "metadata": {},
   "outputs": [],
   "source": [
    "import gutenbergpy.textget\n",
    "from gutenbergpy.gutenbergcache import GutenbergCache\n",
    "import numpy as np"
   ]
  },
  {
   "cell_type": "code",
   "execution_count": 2,
   "id": "5a664c07-f4ba-4e24-839e-31e57cff0ddc",
   "metadata": {},
   "outputs": [],
   "source": [
    "cache = None\n",
    "try:\n",
    "    cache = GutenbergCache.get_cache()\n",
    "except:\n",
    "    GutenbergCache.create()\n",
    "    cache = GutenbergCache.get_cache()"
   ]
  },
  {
   "cell_type": "code",
   "execution_count": 50,
   "id": "c1b2c9f7-1c33-4554-9ea5-c65f186bf584",
   "metadata": {},
   "outputs": [
    {
     "name": "stdout",
     "output_type": "stream",
     "text": [
      "Tolstoy van Aylde-Jonghe, Elzélina\n",
      "Tolstoy, Lev N.\n",
      "Tolstoy, Leo, graf\n",
      "Tolstoy, Alexandra, Countess\n",
      "Tolstoy, Sonya\n",
      "Tolstoy, A. K. (Aleksey Konstantinovich), graf\n",
      "Tolstoy, Sophie Andreevna\n",
      "Tolstoy, Aleksey Konstantinovich, graf\n",
      "Tolstoy, Aleksei Konstantinovich, Count\n",
      "Tolstoy, Ilya, Count\n",
      "Tolstoy, Alexis Konstantinovich, graf\n",
      "Tolstoy, Alexei Konstantinovich, graf\n",
      "Tolstoy, Graf Leo\n"
     ]
    }
   ],
   "source": [
    "authors_list = cache.native_query(\"\"\"\n",
    "SELECT author.name\n",
    "FROM books book\n",
    "JOIN book_authors book_author ON book_author.bookid = book.id\n",
    "JOIN authors author ON author.id = book_author.authorid\n",
    "\"\"\").fetchall()\n",
    "for author in set(np.array(authors_list).flatten()):\n",
    "    if \"Tolstoy\" in author:\n",
    "        print(author)"
   ]
  },
  {
   "cell_type": "code",
   "execution_count": 62,
   "id": "31e94e65-fe9e-4e83-9067-6a2c56227723",
   "metadata": {},
   "outputs": [
    {
     "data": {
      "text/plain": [
       "[46086,\n",
       " 50172,\n",
       " 43761,\n",
       " 43302,\n",
       " 38690,\n",
       " 47197,\n",
       " 43794,\n",
       " 13214,\n",
       " 28920,\n",
       " 6157,\n",
       " 17951,\n",
       " 44266,\n",
       " 52350,\n",
       " 51573,\n",
       " 17950,\n",
       " 67224,\n",
       " 689,\n",
       " 17552,\n",
       " 243,\n",
       " 41119,\n",
       " 49522,\n",
       " 26472,\n",
       " 51708,\n",
       " 26665,\n",
       " 26662,\n",
       " 15628,\n",
       " 27726,\n",
       " 53201,\n",
       " 52981,\n",
       " 26663,\n",
       " 26664,\n",
       " 50482,\n",
       " 52774,\n",
       " 2142,\n",
       " 71817,\n",
       " 4761,\n",
       " 54560,\n",
       " 64908,\n",
       " 43372,\n",
       " 49487,\n",
       " 53721,\n",
       " 985,\n",
       " 34687,\n",
       " 47720,\n",
       " 49824,\n",
       " 69861,\n",
       " 45297,\n",
       " 46272,\n",
       " 71636,\n",
       " 46447,\n",
       " 45298,\n",
       " 60579,\n",
       " 67556,\n",
       " 61388,\n",
       " 38915,\n",
       " 56399,\n",
       " 17352,\n",
       " 53470,\n",
       " 58858,\n",
       " 56797,\n",
       " 4602,\n",
       " 12604,\n",
       " 43409,\n",
       " 1399,\n",
       " 3630,\n",
       " 17949,\n",
       " 27189,\n",
       " 19681,\n",
       " 26661,\n",
       " 26666,\n",
       " 19680,\n",
       " 9792,\n",
       " 3631,\n",
       " 59195,\n",
       " 52982,\n",
       " 1938,\n",
       " 67250,\n",
       " 26660,\n",
       " 2600,\n",
       " 44957,\n",
       " 45271,\n",
       " 13259,\n",
       " 51018,\n",
       " 7176,\n",
       " 2450,\n",
       " 3540,\n",
       " 2637,\n",
       " 12379,\n",
       " 45284,\n",
       " 44956,\n",
       " 37008,\n",
       " 38616,\n",
       " 26581,\n",
       " 3541,\n",
       " 33266,\n",
       " 38025,\n",
       " 986]"
      ]
     },
     "execution_count": 62,
     "metadata": {},
     "output_type": "execute_result"
    }
   ],
   "source": [
    "cache.query(authors=['Tolstoy, Graf Leo'])"
   ]
  }
 ],
 "metadata": {
  "kernelspec": {
   "display_name": "Python 3 (ipykernel)",
   "language": "python",
   "name": "python3"
  },
  "language_info": {
   "codemirror_mode": {
    "name": "ipython",
    "version": 3
   },
   "file_extension": ".py",
   "mimetype": "text/x-python",
   "name": "python",
   "nbconvert_exporter": "python",
   "pygments_lexer": "ipython3",
   "version": "3.12.3"
  }
 },
 "nbformat": 4,
 "nbformat_minor": 5
}
