{
 "cells": [
  {
   "cell_type": "code",
   "execution_count": 1,
   "id": "6ad4bb83-fff8-4725-98dc-2f6a737d0d7e",
   "metadata": {},
   "outputs": [],
   "source": [
    "import gutenbergpy.textget\n",
    "from gutenbergpy.gutenbergcache import GutenbergCache\n",
    "import numpy as np\n",
    "import pandas as pd"
   ]
  },
  {
   "cell_type": "code",
   "execution_count": null,
   "id": "5a664c07-f4ba-4e24-839e-31e57cff0ddc",
   "metadata": {},
   "outputs": [
    {
     "name": "stdout",
     "output_type": "stream",
     "text": [
      "Deleting old files\n",
      " Downloading rdf-files.tar.bz2 : [#                  ]"
     ]
    }
   ],
   "source": [
    "GutenbergCache.create()\n",
    "cache = GutenbergCache.get_cache()"
   ]
  },
  {
   "cell_type": "code",
   "execution_count": 3,
   "id": "c1b2c9f7-1c33-4554-9ea5-c65f186bf584",
   "metadata": {},
   "outputs": [
    {
     "ename": "OperationalError",
     "evalue": "no such table: books",
     "output_type": "error",
     "traceback": [
      "\u001b[0;31m---------------------------------------------------------------------------\u001b[0m",
      "\u001b[0;31mOperationalError\u001b[0m                          Traceback (most recent call last)",
      "Cell \u001b[0;32mIn[3], line 1\u001b[0m\n\u001b[0;32m----> 1\u001b[0m authors_list \u001b[38;5;241m=\u001b[39m \u001b[43mcache\u001b[49m\u001b[38;5;241;43m.\u001b[39;49m\u001b[43mnative_query\u001b[49m\u001b[43m(\u001b[49m\u001b[38;5;124;43m\"\"\"\u001b[39;49m\n\u001b[1;32m      2\u001b[0m \u001b[38;5;124;43mSELECT author.name\u001b[39;49m\n\u001b[1;32m      3\u001b[0m \u001b[38;5;124;43mFROM books book\u001b[39;49m\n\u001b[1;32m      4\u001b[0m \u001b[38;5;124;43mJOIN book_authors book_author ON book_author.bookid = book.id\u001b[39;49m\n\u001b[1;32m      5\u001b[0m \u001b[38;5;124;43mJOIN authors author ON author.id = book_author.authorid\u001b[39;49m\n\u001b[1;32m      6\u001b[0m \u001b[38;5;124;43m\"\"\"\u001b[39;49m\u001b[43m)\u001b[49m\u001b[38;5;241m.\u001b[39mfetchall()\n\u001b[1;32m      7\u001b[0m \u001b[38;5;28;01mfor\u001b[39;00m author \u001b[38;5;129;01min\u001b[39;00m \u001b[38;5;28mset\u001b[39m(np\u001b[38;5;241m.\u001b[39marray(authors_list)\u001b[38;5;241m.\u001b[39mflatten()):\n\u001b[1;32m      8\u001b[0m     \u001b[38;5;28;01mif\u001b[39;00m \u001b[38;5;124m\"\u001b[39m\u001b[38;5;124mTolstoy\u001b[39m\u001b[38;5;124m\"\u001b[39m \u001b[38;5;129;01min\u001b[39;00m author:\n",
      "File \u001b[0;32m~/rusbot/env/lib/python3.12/site-packages/gutenbergpy-0.3.6-py3.12.egg/gutenbergpy/caches/sqlitecache.py:161\u001b[0m, in \u001b[0;36mSQLiteCache.native_query\u001b[0;34m(self, sql_query)\u001b[0m\n\u001b[1;32m    158\u001b[0m     \u001b[38;5;28mself\u001b[39m\u001b[38;5;241m.\u001b[39mconnection \u001b[38;5;241m=\u001b[39m sqlite3\u001b[38;5;241m.\u001b[39mconnect(GutenbergCacheSettings\u001b[38;5;241m.\u001b[39mCACHE_FILENAME)\n\u001b[1;32m    159\u001b[0m     \u001b[38;5;28mself\u001b[39m\u001b[38;5;241m.\u001b[39mcursor     \u001b[38;5;241m=\u001b[39m \u001b[38;5;28mself\u001b[39m\u001b[38;5;241m.\u001b[39mconnection\u001b[38;5;241m.\u001b[39mcursor()\n\u001b[0;32m--> 161\u001b[0m \u001b[38;5;28;01mreturn\u001b[39;00m \u001b[38;5;28;43mself\u001b[39;49m\u001b[38;5;241;43m.\u001b[39;49m\u001b[43mcursor\u001b[49m\u001b[38;5;241;43m.\u001b[39;49m\u001b[43mexecute\u001b[49m\u001b[43m(\u001b[49m\u001b[43msql_query\u001b[49m\u001b[43m)\u001b[49m\n",
      "\u001b[0;31mOperationalError\u001b[0m: no such table: books"
     ]
    }
   ],
   "source": [
    "authors_list = cache.native_query(\"\"\"\n",
    "SELECT author.name\n",
    "FROM books book\n",
    "JOIN book_authors book_author ON book_author.bookid = book.id\n",
    "JOIN authors author ON author.id = book_author.authorid\n",
    "\"\"\").fetchall()\n",
    "for author in set(np.array(authors_list).flatten()):\n",
    "    if \"Tolstoy\" in author:\n",
    "        print(author)"
   ]
  },
  {
   "cell_type": "code",
   "execution_count": null,
   "id": "a77d9965-2108-4f7e-b305-00953d1f976d",
   "metadata": {},
   "outputs": [],
   "source": [
    "books = cache.native_query(\"\"\"\n",
    "SELECT title.name, book.gutenbergbookid\n",
    "FROM books book\n",
    "JOIN book_authors book_author ON book_author.bookid = book.id\n",
    "JOIN authors author ON author.id = book_author.authorid\n",
    "JOIN titles title ON title.bookid = book.id\n",
    "WHERE author.name = 'Tolstoy, Graf Leo'\n",
    "\"\"\").fetchall()\n",
    "books"
   ]
  },
  {
   "cell_type": "code",
   "execution_count": null,
   "id": "6e44e91e-4d0b-4bb4-806a-0c99effde63d",
   "metadata": {},
   "outputs": [],
   "source": [
    "def safe_get_text_by_id(book_id):\n",
    "    try:\n",
    "        return gutenbergpy.textget.get_text_by_id(book_id)\n",
    "    except Exception as e:\n",
    "        return None"
   ]
  },
  {
   "cell_type": "code",
   "execution_count": null,
   "id": "fcf92c17-abc5-4b5e-b19e-108792d04df3",
   "metadata": {},
   "outputs": [],
   "source": [
    "texts = [(title, gutenbergpy.textget.strip_headers(text)) for title, book_id in books if (text := safe_get_text_by_id(book_id)) is not None]"
   ]
  },
  {
   "cell_type": "code",
   "execution_count": null,
   "id": "e4f54e4b-4007-424e-83f8-e14abe1c14a3",
   "metadata": {},
   "outputs": [],
   "source": [
    "texts_df = pd.DataFrame(texts, columns=['title','text'])\n",
    "texts_df"
   ]
  },
  {
   "cell_type": "code",
   "execution_count": null,
   "id": "173d7f4c-aab9-4ff3-b1c6-987a1efe5485",
   "metadata": {},
   "outputs": [],
   "source": [
    "texts_df[\"title\"]"
   ]
  }
 ],
 "metadata": {
  "kernelspec": {
   "display_name": "Python 3 (ipykernel)",
   "language": "python",
   "name": "python3"
  },
  "language_info": {
   "codemirror_mode": {
    "name": "ipython",
    "version": 3
   },
   "file_extension": ".py",
   "mimetype": "text/x-python",
   "name": "python",
   "nbconvert_exporter": "python",
   "pygments_lexer": "ipython3",
   "version": "3.12.3"
  }
 },
 "nbformat": 4,
 "nbformat_minor": 5
}
