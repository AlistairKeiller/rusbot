{
 "cells": [
  {
   "cell_type": "code",
   "execution_count": 1,
   "id": "6ad4bb83-fff8-4725-98dc-2f6a737d0d7e",
   "metadata": {},
   "outputs": [],
   "source": [
    "import gutenbergpy.textget\n",
    "from gutenbergpy.gutenbergcache import GutenbergCache\n",
    "import numpy as np\n",
    "import pandas as pd"
   ]
  },
  {
   "cell_type": "code",
   "execution_count": 10,
   "id": "5a664c07-f4ba-4e24-839e-31e57cff0ddc",
   "metadata": {},
   "outputs": [
    {
     "name": "stdout",
     "output_type": "stream",
     "text": [
      "Deleting old files\n",
      " Downloading rdf-files.tar.bz2 : [######             ]"
     ]
    },
    {
     "name": "stderr",
     "output_type": "stream",
     "text": [
      "IOPub message rate exceeded.\n",
      "The Jupyter server will temporarily stop sending output\n",
      "to the client in order to avoid crashing it.\n",
      "To change this limit, set the config variable\n",
      "`--ServerApp.iopub_msg_rate_limit`.\n",
      "\n",
      "Current values:\n",
      "ServerApp.iopub_msg_rate_limit=1000.0 (msgs/sec)\n",
      "ServerApp.rate_limit_window=3.0 (secs)\n",
      "\n"
     ]
    },
    {
     "name": "stdout",
     "output_type": "stream",
     "text": [
      " Extracting  rdf-files.tar.bz2 : [                   ]]"
     ]
    },
    {
     "name": "stderr",
     "output_type": "stream",
     "text": [
      "IOPub message rate exceeded.\n",
      "The Jupyter server will temporarily stop sending output\n",
      "to the client in order to avoid crashing it.\n",
      "To change this limit, set the config variable\n",
      "`--ServerApp.iopub_msg_rate_limit`.\n",
      "\n",
      "Current values:\n",
      "ServerApp.iopub_msg_rate_limit=1000.0 (msgs/sec)\n",
      "ServerApp.rate_limit_window=3.0 (secs)\n",
      "\n"
     ]
    },
    {
     "name": "stdout",
     "output_type": "stream",
     "text": [
      " Extracting  rdf-files.tar.bz2 : [##                 ]"
     ]
    },
    {
     "name": "stderr",
     "output_type": "stream",
     "text": [
      "IOPub message rate exceeded.\n",
      "The Jupyter server will temporarily stop sending output\n",
      "to the client in order to avoid crashing it.\n",
      "To change this limit, set the config variable\n",
      "`--ServerApp.iopub_msg_rate_limit`.\n",
      "\n",
      "Current values:\n",
      "ServerApp.iopub_msg_rate_limit=1000.0 (msgs/sec)\n",
      "ServerApp.rate_limit_window=3.0 (secs)\n",
      "\n"
     ]
    },
    {
     "name": "stdout",
     "output_type": "stream",
     "text": [
      " Extracting  rdf-files.tar.bz2 : [###                ]"
     ]
    },
    {
     "name": "stderr",
     "output_type": "stream",
     "text": [
      "IOPub message rate exceeded.\n",
      "The Jupyter server will temporarily stop sending output\n",
      "to the client in order to avoid crashing it.\n",
      "To change this limit, set the config variable\n",
      "`--ServerApp.iopub_msg_rate_limit`.\n",
      "\n",
      "Current values:\n",
      "ServerApp.iopub_msg_rate_limit=1000.0 (msgs/sec)\n",
      "ServerApp.rate_limit_window=3.0 (secs)\n",
      "\n"
     ]
    },
    {
     "name": "stdout",
     "output_type": "stream",
     "text": [
      " Extracting  rdf-files.tar.bz2 : [####               ]"
     ]
    },
    {
     "name": "stderr",
     "output_type": "stream",
     "text": [
      "IOPub message rate exceeded.\n",
      "The Jupyter server will temporarily stop sending output\n",
      "to the client in order to avoid crashing it.\n",
      "To change this limit, set the config variable\n",
      "`--ServerApp.iopub_msg_rate_limit`.\n",
      "\n",
      "Current values:\n",
      "ServerApp.iopub_msg_rate_limit=1000.0 (msgs/sec)\n",
      "ServerApp.rate_limit_window=3.0 (secs)\n",
      "\n"
     ]
    },
    {
     "name": "stdout",
     "output_type": "stream",
     "text": [
      " Extracting  rdf-files.tar.bz2 : [#####              ]"
     ]
    },
    {
     "name": "stderr",
     "output_type": "stream",
     "text": [
      "IOPub message rate exceeded.\n",
      "The Jupyter server will temporarily stop sending output\n",
      "to the client in order to avoid crashing it.\n",
      "To change this limit, set the config variable\n",
      "`--ServerApp.iopub_msg_rate_limit`.\n",
      "\n",
      "Current values:\n",
      "ServerApp.iopub_msg_rate_limit=1000.0 (msgs/sec)\n",
      "ServerApp.rate_limit_window=3.0 (secs)\n",
      "\n"
     ]
    },
    {
     "name": "stdout",
     "output_type": "stream",
     "text": [
      " Extracting  rdf-files.tar.bz2 : [#######            ]"
     ]
    },
    {
     "name": "stderr",
     "output_type": "stream",
     "text": [
      "IOPub message rate exceeded.\n",
      "The Jupyter server will temporarily stop sending output\n",
      "to the client in order to avoid crashing it.\n",
      "To change this limit, set the config variable\n",
      "`--ServerApp.iopub_msg_rate_limit`.\n",
      "\n",
      "Current values:\n",
      "ServerApp.iopub_msg_rate_limit=1000.0 (msgs/sec)\n",
      "ServerApp.rate_limit_window=3.0 (secs)\n",
      "\n"
     ]
    },
    {
     "name": "stdout",
     "output_type": "stream",
     "text": [
      " Extracting  rdf-files.tar.bz2 : [########           ]"
     ]
    },
    {
     "name": "stderr",
     "output_type": "stream",
     "text": [
      "IOPub message rate exceeded.\n",
      "The Jupyter server will temporarily stop sending output\n",
      "to the client in order to avoid crashing it.\n",
      "To change this limit, set the config variable\n",
      "`--ServerApp.iopub_msg_rate_limit`.\n",
      "\n",
      "Current values:\n",
      "ServerApp.iopub_msg_rate_limit=1000.0 (msgs/sec)\n",
      "ServerApp.rate_limit_window=3.0 (secs)\n",
      "\n"
     ]
    },
    {
     "name": "stdout",
     "output_type": "stream",
     "text": [
      " Extracting  rdf-files.tar.bz2 : [#########          ]"
     ]
    },
    {
     "name": "stderr",
     "output_type": "stream",
     "text": [
      "IOPub message rate exceeded.\n",
      "The Jupyter server will temporarily stop sending output\n",
      "to the client in order to avoid crashing it.\n",
      "To change this limit, set the config variable\n",
      "`--ServerApp.iopub_msg_rate_limit`.\n",
      "\n",
      "Current values:\n",
      "ServerApp.iopub_msg_rate_limit=1000.0 (msgs/sec)\n",
      "ServerApp.rate_limit_window=3.0 (secs)\n",
      "\n"
     ]
    },
    {
     "name": "stdout",
     "output_type": "stream",
     "text": [
      " Extracting  rdf-files.tar.bz2 : [##########         ]"
     ]
    },
    {
     "name": "stderr",
     "output_type": "stream",
     "text": [
      "IOPub message rate exceeded.\n",
      "The Jupyter server will temporarily stop sending output\n",
      "to the client in order to avoid crashing it.\n",
      "To change this limit, set the config variable\n",
      "`--ServerApp.iopub_msg_rate_limit`.\n",
      "\n",
      "Current values:\n",
      "ServerApp.iopub_msg_rate_limit=1000.0 (msgs/sec)\n",
      "ServerApp.rate_limit_window=3.0 (secs)\n",
      "\n"
     ]
    },
    {
     "name": "stdout",
     "output_type": "stream",
     "text": [
      " Extracting  rdf-files.tar.bz2 : [############       ]"
     ]
    },
    {
     "name": "stderr",
     "output_type": "stream",
     "text": [
      "IOPub message rate exceeded.\n",
      "The Jupyter server will temporarily stop sending output\n",
      "to the client in order to avoid crashing it.\n",
      "To change this limit, set the config variable\n",
      "`--ServerApp.iopub_msg_rate_limit`.\n",
      "\n",
      "Current values:\n",
      "ServerApp.iopub_msg_rate_limit=1000.0 (msgs/sec)\n",
      "ServerApp.rate_limit_window=3.0 (secs)\n",
      "\n"
     ]
    },
    {
     "name": "stdout",
     "output_type": "stream",
     "text": [
      " Extracting  rdf-files.tar.bz2 : [#############      ]"
     ]
    },
    {
     "name": "stderr",
     "output_type": "stream",
     "text": [
      "IOPub message rate exceeded.\n",
      "The Jupyter server will temporarily stop sending output\n",
      "to the client in order to avoid crashing it.\n",
      "To change this limit, set the config variable\n",
      "`--ServerApp.iopub_msg_rate_limit`.\n",
      "\n",
      "Current values:\n",
      "ServerApp.iopub_msg_rate_limit=1000.0 (msgs/sec)\n",
      "ServerApp.rate_limit_window=3.0 (secs)\n",
      "\n"
     ]
    },
    {
     "name": "stdout",
     "output_type": "stream",
     "text": [
      " Extracting  rdf-files.tar.bz2 : [##############     ]"
     ]
    },
    {
     "name": "stderr",
     "output_type": "stream",
     "text": [
      "IOPub message rate exceeded.\n",
      "The Jupyter server will temporarily stop sending output\n",
      "to the client in order to avoid crashing it.\n",
      "To change this limit, set the config variable\n",
      "`--ServerApp.iopub_msg_rate_limit`.\n",
      "\n",
      "Current values:\n",
      "ServerApp.iopub_msg_rate_limit=1000.0 (msgs/sec)\n",
      "ServerApp.rate_limit_window=3.0 (secs)\n",
      "\n"
     ]
    },
    {
     "name": "stdout",
     "output_type": "stream",
     "text": [
      " Extracting  rdf-files.tar.bz2 : [###############    ]"
     ]
    },
    {
     "name": "stderr",
     "output_type": "stream",
     "text": [
      "IOPub message rate exceeded.\n",
      "The Jupyter server will temporarily stop sending output\n",
      "to the client in order to avoid crashing it.\n",
      "To change this limit, set the config variable\n",
      "`--ServerApp.iopub_msg_rate_limit`.\n",
      "\n",
      "Current values:\n",
      "ServerApp.iopub_msg_rate_limit=1000.0 (msgs/sec)\n",
      "ServerApp.rate_limit_window=3.0 (secs)\n",
      "\n"
     ]
    },
    {
     "name": "stdout",
     "output_type": "stream",
     "text": [
      " Extracting  rdf-files.tar.bz2 : [################   ]"
     ]
    },
    {
     "name": "stderr",
     "output_type": "stream",
     "text": [
      "IOPub message rate exceeded.\n",
      "The Jupyter server will temporarily stop sending output\n",
      "to the client in order to avoid crashing it.\n",
      "To change this limit, set the config variable\n",
      "`--ServerApp.iopub_msg_rate_limit`.\n",
      "\n",
      "Current values:\n",
      "ServerApp.iopub_msg_rate_limit=1000.0 (msgs/sec)\n",
      "ServerApp.rate_limit_window=3.0 (secs)\n",
      "\n"
     ]
    },
    {
     "name": "stdout",
     "output_type": "stream",
     "text": [
      " Extracting  rdf-files.tar.bz2 : [################## ]"
     ]
    },
    {
     "name": "stderr",
     "output_type": "stream",
     "text": [
      "IOPub message rate exceeded.\n",
      "The Jupyter server will temporarily stop sending output\n",
      "to the client in order to avoid crashing it.\n",
      "To change this limit, set the config variable\n",
      "`--ServerApp.iopub_msg_rate_limit`.\n",
      "\n",
      "Current values:\n",
      "ServerApp.iopub_msg_rate_limit=1000.0 (msgs/sec)\n",
      "ServerApp.rate_limit_window=3.0 (secs)\n",
      "\n"
     ]
    },
    {
     "name": "stdout",
     "output_type": "stream",
     "text": [
      " Extracting  rdf-files.tar.bz2 : [###################]"
     ]
    },
    {
     "name": "stderr",
     "output_type": "stream",
     "text": [
      "IOPub message rate exceeded.\n",
      "The Jupyter server will temporarily stop sending output\n",
      "to the client in order to avoid crashing it.\n",
      "To change this limit, set the config variable\n",
      "`--ServerApp.iopub_msg_rate_limit`.\n",
      "\n",
      "Current values:\n",
      "ServerApp.iopub_msg_rate_limit=1000.0 (msgs/sec)\n",
      "ServerApp.rate_limit_window=3.0 (secs)\n",
      "\n"
     ]
    },
    {
     "name": "stdout",
     "output_type": "stream",
     "text": [
      " Extracting  rdf-files.tar.bz2 : [###################]took 69.801582\n",
      " Processing progress: 2178 / 73454 : [                   ]"
     ]
    },
    {
     "name": "stderr",
     "output_type": "stream",
     "text": [
      "IOPub message rate exceeded.\n",
      "The Jupyter server will temporarily stop sending output\n",
      "to the client in order to avoid crashing it.\n",
      "To change this limit, set the config variable\n",
      "`--ServerApp.iopub_msg_rate_limit`.\n",
      "\n",
      "Current values:\n",
      "ServerApp.iopub_msg_rate_limit=1000.0 (msgs/sec)\n",
      "ServerApp.rate_limit_window=3.0 (secs)\n",
      "\n"
     ]
    },
    {
     "name": "stdout",
     "output_type": "stream",
     "text": [
      " Processing progress: 5792 / 73454 : [#                  ]"
     ]
    },
    {
     "name": "stderr",
     "output_type": "stream",
     "text": [
      "IOPub message rate exceeded.\n",
      "The Jupyter server will temporarily stop sending output\n",
      "to the client in order to avoid crashing it.\n",
      "To change this limit, set the config variable\n",
      "`--ServerApp.iopub_msg_rate_limit`.\n",
      "\n",
      "Current values:\n",
      "ServerApp.iopub_msg_rate_limit=1000.0 (msgs/sec)\n",
      "ServerApp.rate_limit_window=3.0 (secs)\n",
      "\n"
     ]
    },
    {
     "name": "stdout",
     "output_type": "stream",
     "text": [
      " Processing progress: 12186 / 73454 : [###                ]"
     ]
    },
    {
     "name": "stderr",
     "output_type": "stream",
     "text": [
      "IOPub message rate exceeded.\n",
      "The Jupyter server will temporarily stop sending output\n",
      "to the client in order to avoid crashing it.\n",
      "To change this limit, set the config variable\n",
      "`--ServerApp.iopub_msg_rate_limit`.\n",
      "\n",
      "Current values:\n",
      "ServerApp.iopub_msg_rate_limit=1000.0 (msgs/sec)\n",
      "ServerApp.rate_limit_window=3.0 (secs)\n",
      "\n"
     ]
    },
    {
     "name": "stdout",
     "output_type": "stream",
     "text": [
      " Processing progress: 34928 / 73454 : [#########          ]"
     ]
    },
    {
     "name": "stderr",
     "output_type": "stream",
     "text": [
      "IOPub message rate exceeded.\n",
      "The Jupyter server will temporarily stop sending output\n",
      "to the client in order to avoid crashing it.\n",
      "To change this limit, set the config variable\n",
      "`--ServerApp.iopub_msg_rate_limit`.\n",
      "\n",
      "Current values:\n",
      "ServerApp.iopub_msg_rate_limit=1000.0 (msgs/sec)\n",
      "ServerApp.rate_limit_window=3.0 (secs)\n",
      "\n"
     ]
    },
    {
     "name": "stdout",
     "output_type": "stream",
     "text": [
      " Processing progress: 38591 / 73454 : [##########         ]]"
     ]
    },
    {
     "name": "stderr",
     "output_type": "stream",
     "text": [
      "IOPub message rate exceeded.\n",
      "The Jupyter server will temporarily stop sending output\n",
      "to the client in order to avoid crashing it.\n",
      "To change this limit, set the config variable\n",
      "`--ServerApp.iopub_msg_rate_limit`.\n",
      "\n",
      "Current values:\n",
      "ServerApp.iopub_msg_rate_limit=1000.0 (msgs/sec)\n",
      "ServerApp.rate_limit_window=3.0 (secs)\n",
      "\n"
     ]
    },
    {
     "name": "stdout",
     "output_type": "stream",
     "text": [
      " Processing progress: 43965 / 73454 : [###########        ]"
     ]
    },
    {
     "name": "stderr",
     "output_type": "stream",
     "text": [
      "IOPub message rate exceeded.\n",
      "The Jupyter server will temporarily stop sending output\n",
      "to the client in order to avoid crashing it.\n",
      "To change this limit, set the config variable\n",
      "`--ServerApp.iopub_msg_rate_limit`.\n",
      "\n",
      "Current values:\n",
      "ServerApp.iopub_msg_rate_limit=1000.0 (msgs/sec)\n",
      "ServerApp.rate_limit_window=3.0 (secs)\n",
      "\n"
     ]
    },
    {
     "name": "stdout",
     "output_type": "stream",
     "text": [
      " Processing progress: 54219 / 73454 : [##############     ]"
     ]
    },
    {
     "name": "stderr",
     "output_type": "stream",
     "text": [
      "IOPub message rate exceeded.\n",
      "The Jupyter server will temporarily stop sending output\n",
      "to the client in order to avoid crashing it.\n",
      "To change this limit, set the config variable\n",
      "`--ServerApp.iopub_msg_rate_limit`.\n",
      "\n",
      "Current values:\n",
      "ServerApp.iopub_msg_rate_limit=1000.0 (msgs/sec)\n",
      "ServerApp.rate_limit_window=3.0 (secs)\n",
      "\n"
     ]
    },
    {
     "name": "stdout",
     "output_type": "stream",
     "text": [
      " Processing progress: 57881 / 73454 : [###############    ]"
     ]
    },
    {
     "name": "stderr",
     "output_type": "stream",
     "text": [
      "IOPub message rate exceeded.\n",
      "The Jupyter server will temporarily stop sending output\n",
      "to the client in order to avoid crashing it.\n",
      "To change this limit, set the config variable\n",
      "`--ServerApp.iopub_msg_rate_limit`.\n",
      "\n",
      "Current values:\n",
      "ServerApp.iopub_msg_rate_limit=1000.0 (msgs/sec)\n",
      "ServerApp.rate_limit_window=3.0 (secs)\n",
      "\n"
     ]
    },
    {
     "name": "stdout",
     "output_type": "stream",
     "text": [
      " Processing progress: 61539 / 73454 : [################   ]"
     ]
    },
    {
     "name": "stderr",
     "output_type": "stream",
     "text": [
      "IOPub message rate exceeded.\n",
      "The Jupyter server will temporarily stop sending output\n",
      "to the client in order to avoid crashing it.\n",
      "To change this limit, set the config variable\n",
      "`--ServerApp.iopub_msg_rate_limit`.\n",
      "\n",
      "Current values:\n",
      "ServerApp.iopub_msg_rate_limit=1000.0 (msgs/sec)\n",
      "ServerApp.rate_limit_window=3.0 (secs)\n",
      "\n"
     ]
    },
    {
     "name": "stdout",
     "output_type": "stream",
     "text": [
      " Processing progress: 65770 / 73454 : [#################  ]"
     ]
    },
    {
     "name": "stderr",
     "output_type": "stream",
     "text": [
      "IOPub message rate exceeded.\n",
      "The Jupyter server will temporarily stop sending output\n",
      "to the client in order to avoid crashing it.\n",
      "To change this limit, set the config variable\n",
      "`--ServerApp.iopub_msg_rate_limit`.\n",
      "\n",
      "Current values:\n",
      "ServerApp.iopub_msg_rate_limit=1000.0 (msgs/sec)\n",
      "ServerApp.rate_limit_window=3.0 (secs)\n",
      "\n"
     ]
    },
    {
     "name": "stdout",
     "output_type": "stream",
     "text": [
      " Processing progress: 70985 / 73454 : [###################]"
     ]
    },
    {
     "name": "stderr",
     "output_type": "stream",
     "text": [
      "IOPub message rate exceeded.\n",
      "The Jupyter server will temporarily stop sending output\n",
      "to the client in order to avoid crashing it.\n",
      "To change this limit, set the config variable\n",
      "`--ServerApp.iopub_msg_rate_limit`.\n",
      "\n",
      "Current values:\n",
      "ServerApp.iopub_msg_rate_limit=1000.0 (msgs/sec)\n",
      "ServerApp.rate_limit_window=3.0 (secs)\n",
      "\n"
     ]
    },
    {
     "name": "stdout",
     "output_type": "stream",
     "text": [
      " Processing progress: 73453 / 73454 : [###################]RDF PARSING took 74.87920999526978\n",
      " SQLite progress : [                   ]]"
     ]
    },
    {
     "name": "stderr",
     "output_type": "stream",
     "text": [
      "IOPub message rate exceeded.\n",
      "The Jupyter server will temporarily stop sending output\n",
      "to the client in order to avoid crashing it.\n",
      "To change this limit, set the config variable\n",
      "`--ServerApp.iopub_msg_rate_limit`.\n",
      "\n",
      "Current values:\n",
      "ServerApp.iopub_msg_rate_limit=1000.0 (msgs/sec)\n",
      "ServerApp.rate_limit_window=3.0 (secs)\n",
      "\n"
     ]
    },
    {
     "name": "stdout",
     "output_type": "stream",
     "text": [
      " SQLite progress : [###                ]"
     ]
    },
    {
     "name": "stderr",
     "output_type": "stream",
     "text": [
      "IOPub message rate exceeded.\n",
      "The Jupyter server will temporarily stop sending output\n",
      "to the client in order to avoid crashing it.\n",
      "To change this limit, set the config variable\n",
      "`--ServerApp.iopub_msg_rate_limit`.\n",
      "\n",
      "Current values:\n",
      "ServerApp.iopub_msg_rate_limit=1000.0 (msgs/sec)\n",
      "ServerApp.rate_limit_window=3.0 (secs)\n",
      "\n"
     ]
    },
    {
     "name": "stdout",
     "output_type": "stream",
     "text": [
      " SQLite progress : [#####              ]"
     ]
    },
    {
     "name": "stderr",
     "output_type": "stream",
     "text": [
      "IOPub message rate exceeded.\n",
      "The Jupyter server will temporarily stop sending output\n",
      "to the client in order to avoid crashing it.\n",
      "To change this limit, set the config variable\n",
      "`--ServerApp.iopub_msg_rate_limit`.\n",
      "\n",
      "Current values:\n",
      "ServerApp.iopub_msg_rate_limit=1000.0 (msgs/sec)\n",
      "ServerApp.rate_limit_window=3.0 (secs)\n",
      "\n"
     ]
    },
    {
     "name": "stdout",
     "output_type": "stream",
     "text": [
      " SQLite progress : [########           ]"
     ]
    },
    {
     "name": "stderr",
     "output_type": "stream",
     "text": [
      "IOPub message rate exceeded.\n",
      "The Jupyter server will temporarily stop sending output\n",
      "to the client in order to avoid crashing it.\n",
      "To change this limit, set the config variable\n",
      "`--ServerApp.iopub_msg_rate_limit`.\n",
      "\n",
      "Current values:\n",
      "ServerApp.iopub_msg_rate_limit=1000.0 (msgs/sec)\n",
      "ServerApp.rate_limit_window=3.0 (secs)\n",
      "\n"
     ]
    },
    {
     "name": "stdout",
     "output_type": "stream",
     "text": [
      " SQLite progress : [###########        ]"
     ]
    },
    {
     "name": "stderr",
     "output_type": "stream",
     "text": [
      "IOPub message rate exceeded.\n",
      "The Jupyter server will temporarily stop sending output\n",
      "to the client in order to avoid crashing it.\n",
      "To change this limit, set the config variable\n",
      "`--ServerApp.iopub_msg_rate_limit`.\n",
      "\n",
      "Current values:\n",
      "ServerApp.iopub_msg_rate_limit=1000.0 (msgs/sec)\n",
      "ServerApp.rate_limit_window=3.0 (secs)\n",
      "\n"
     ]
    },
    {
     "name": "stdout",
     "output_type": "stream",
     "text": [
      " SQLite progress : [#############      ]"
     ]
    },
    {
     "name": "stderr",
     "output_type": "stream",
     "text": [
      "IOPub message rate exceeded.\n",
      "The Jupyter server will temporarily stop sending output\n",
      "to the client in order to avoid crashing it.\n",
      "To change this limit, set the config variable\n",
      "`--ServerApp.iopub_msg_rate_limit`.\n",
      "\n",
      "Current values:\n",
      "ServerApp.iopub_msg_rate_limit=1000.0 (msgs/sec)\n",
      "ServerApp.rate_limit_window=3.0 (secs)\n",
      "\n"
     ]
    },
    {
     "name": "stdout",
     "output_type": "stream",
     "text": [
      " SQLite progress : [################   ]"
     ]
    },
    {
     "name": "stderr",
     "output_type": "stream",
     "text": [
      "IOPub message rate exceeded.\n",
      "The Jupyter server will temporarily stop sending output\n",
      "to the client in order to avoid crashing it.\n",
      "To change this limit, set the config variable\n",
      "`--ServerApp.iopub_msg_rate_limit`.\n",
      "\n",
      "Current values:\n",
      "ServerApp.iopub_msg_rate_limit=1000.0 (msgs/sec)\n",
      "ServerApp.rate_limit_window=3.0 (secs)\n",
      "\n"
     ]
    },
    {
     "name": "stdout",
     "output_type": "stream",
     "text": [
      " SQLite progress : [###################]"
     ]
    },
    {
     "name": "stderr",
     "output_type": "stream",
     "text": [
      "IOPub message rate exceeded.\n",
      "The Jupyter server will temporarily stop sending output\n",
      "to the client in order to avoid crashing it.\n",
      "To change this limit, set the config variable\n",
      "`--ServerApp.iopub_msg_rate_limit`.\n",
      "\n",
      "Current values:\n",
      "ServerApp.iopub_msg_rate_limit=1000.0 (msgs/sec)\n",
      "ServerApp.rate_limit_window=3.0 (secs)\n",
      "\n"
     ]
    },
    {
     "name": "stdout",
     "output_type": "stream",
     "text": [
      "Done\n"
     ]
    }
   ],
   "source": [
    "GutenbergCache.create()\n",
    "cache = GutenbergCache.get_cache()"
   ]
  },
  {
   "cell_type": "code",
   "execution_count": 11,
   "id": "c1b2c9f7-1c33-4554-9ea5-c65f186bf584",
   "metadata": {},
   "outputs": [
    {
     "name": "stdout",
     "output_type": "stream",
     "text": [
      "Tolstoy, A. K. (Aleksey Konstantinovich), graf\n",
      "Tolstoy, Sophie Andreevna\n",
      "Tolstoy, Sonya\n",
      "Tolstoy, Alexandra, Countess\n",
      "Tolstoy van Aylde-Jonghe, Elzélina\n",
      "Tolstoy, Ilya, Count\n",
      "Tolstoy, Graf Leo\n",
      "Tolstoy, Aleksei Konstantinovich, Count\n",
      "Tolstoy, Lev N.\n",
      "Tolstoy, Aleksey Konstantinovich, graf\n",
      "Tolstoy, Alexei Konstantinovich, graf\n",
      "Tolstoy, Leo, graf\n",
      "Tolstoy, Alexis Konstantinovich, graf\n"
     ]
    }
   ],
   "source": [
    "authors_list = cache.native_query(\"\"\"\n",
    "SELECT author.name\n",
    "FROM books book\n",
    "JOIN book_authors book_author ON book_author.bookid = book.id\n",
    "JOIN authors author ON author.id = book_author.authorid\n",
    "\"\"\").fetchall()\n",
    "for author in set(np.array(authors_list).flatten()):\n",
    "    if \"Tolstoy\" in author:\n",
    "        print(author)"
   ]
  },
  {
   "cell_type": "code",
   "execution_count": 40,
   "id": "836c149e-a64a-44bf-af3f-1bbf0213e84a",
   "metadata": {},
   "outputs": [
    {
     "data": {
      "text/plain": [
       "[46086,\n",
       " 50172,\n",
       " 43761,\n",
       " 43302,\n",
       " 38690,\n",
       " 47197,\n",
       " 43794,\n",
       " 13214,\n",
       " 28920,\n",
       " 6157,\n",
       " 17951,\n",
       " 44266,\n",
       " 52350,\n",
       " 51573,\n",
       " 17950,\n",
       " 67224,\n",
       " 689,\n",
       " 17552,\n",
       " 243,\n",
       " 41119,\n",
       " 49522,\n",
       " 26472,\n",
       " 51708,\n",
       " 26665,\n",
       " 26662,\n",
       " 15628,\n",
       " 27726,\n",
       " 53201,\n",
       " 52981,\n",
       " 26663,\n",
       " 26664,\n",
       " 50482,\n",
       " 52774,\n",
       " 2142,\n",
       " 71817,\n",
       " 4761,\n",
       " 54560,\n",
       " 64908,\n",
       " 43372,\n",
       " 49487,\n",
       " 53721,\n",
       " 985,\n",
       " 34687,\n",
       " 47720,\n",
       " 49824,\n",
       " 69861,\n",
       " 45297,\n",
       " 46272,\n",
       " 71636,\n",
       " 46447,\n",
       " 45298,\n",
       " 60579,\n",
       " 67556,\n",
       " 61388,\n",
       " 38915,\n",
       " 56399,\n",
       " 17352,\n",
       " 53470,\n",
       " 58858,\n",
       " 56797,\n",
       " 4602,\n",
       " 12604,\n",
       " 43409,\n",
       " 1399,\n",
       " 3630,\n",
       " 17949,\n",
       " 27189,\n",
       " 19681,\n",
       " 26661,\n",
       " 26666,\n",
       " 19680,\n",
       " 9792,\n",
       " 3631,\n",
       " 59195,\n",
       " 52982,\n",
       " 1938,\n",
       " 67250,\n",
       " 26660,\n",
       " 2600,\n",
       " 44957,\n",
       " 45271,\n",
       " 13259,\n",
       " 51018,\n",
       " 7176,\n",
       " 2450,\n",
       " 3540,\n",
       " 2637,\n",
       " 12379,\n",
       " 45284,\n",
       " 44956,\n",
       " 37008,\n",
       " 38616,\n",
       " 26581,\n",
       " 3541,\n",
       " 33266,\n",
       " 38025,\n",
       " 986]"
      ]
     },
     "execution_count": 40,
     "metadata": {},
     "output_type": "execute_result"
    }
   ],
   "source": [
    "cache.query(authors=[\"Tolstoy, Leo, graf\"])"
   ]
  },
  {
   "cell_type": "code",
   "execution_count": 44,
   "id": "a77d9965-2108-4f7e-b305-00953d1f976d",
   "metadata": {},
   "outputs": [
    {
     "data": {
      "text/plain": [
       "[('Der lebende Leichnam: Drama in sechs Akten (zwölf Bildern)', 46086),\n",
       " ('Kasakat: Kaukasialainen kertomus', 50172),\n",
       " (\"La Pensée de l'Humanité\\nDernière oeuvre de L. Tolstoï\", 43761),\n",
       " (\"'The Kingdom of God Is Within You'\\r\\nChristianity Not as a Mystic Religion but as a New Theory of Life\",\n",
       "  43302),\n",
       " ('What Shall We Do?', 38690),\n",
       " ('Sevastopol', 47197),\n",
       " ('My Religion', 43794),\n",
       " ('Anna Karenina', 13214),\n",
       " ('War and Peace, Book 01: 1805', 28920),\n",
       " ('What Men Live By, and Other Tales', 6157),\n",
       " ('La guerre et la paix, Tome III', 17951),\n",
       " ('Katia', 44266),\n",
       " ('Isäntä ja renki', 52350),\n",
       " ('Kreuzer-sonaatti', 51573),\n",
       " ('La guerre et la paix, Tome II', 17950),\n",
       " ('The Bobbsey Twins at Cedar Camp', 67224),\n",
       " ('The inverted pyramid', 689),\n",
       " ('Reconstruction and the Constitution, 1866-1876', 17552),\n",
       " ('The Days of Bruce: A Story from Scottish History. Vol. 1', 243),\n",
       " ('Emerson Radio Model 39 Warranty Card', 41119),\n",
       " (\"Heath's Modern Language Series: La Mère de la Marquise\", 49522),\n",
       " ('Greetings from Longfellow', 26472),\n",
       " ('Pierre and Jean', 51708),\n",
       " ('Pierre et Jean. English', 51708),\n",
       " ('The Smoky God; Or, A Voyage to the Inner World', 26665),\n",
       " ('El Diablo Cojuelo', 26662),\n",
       " ('Index of the Project Gutenberg Works of Gustave Flaubert', 15628),\n",
       " ('The Happy Homicide', 27726),\n",
       " ('Address of President Coolidge before the National Council of the Boy Scouts of America\\r\\nWashington, D. C., May 1, 1926',\n",
       "  53201),\n",
       " ('Robbert Roodhaar', 52981),\n",
       " ('The Troubadours', 26663),\n",
       " ('Principles of politeness, and of knowing the world', 26664),\n",
       " ('Histoire comique', 50482),\n",
       " (\"Mother West Wind 'How' Stories\", 52774),\n",
       " ('The Thirst Quenchers', 2142),\n",
       " (\"A History of the British Army, Vol. 2\\r\\nFirst Part—to the Close of the Seven Years' War\",\n",
       "  71817),\n",
       " ('Sisters Three', 4761),\n",
       " ('Rugs: Oriental and Occidental, Antique & Modern\\nA Handbook for Ready Reference',\n",
       "  54560),\n",
       " ('The Adventurers', 64908),\n",
       " ('An Outline of Russian Literature', 43372),\n",
       " ('Tom Swift Among the Diamond Makers; Or, The Secret of Phantom Mountain',\n",
       "  49487),\n",
       " ('Supplement to Animal Sanctuaries in Labrador\\r\\nSupplement to an Address Presented by Lt.-Colonel William Wood, F.R.S.C. Before the Second Annual Meeting of the Commission of Conservation in January, 1911',\n",
       "  53721),\n",
       " ('Elizabethan Sonnet Cycles: Phillis - Licia', 985),\n",
       " ('The Mirror of Literature, Amusement, and Instruction. Volume 10, No. 291 - Supplement to Vol 10',\n",
       "  34687),\n",
       " ('Fairies and Folk of Ireland', 47720),\n",
       " ('The Modern Scottish Minstrel, Volumes 1-6.\\r\\nThe Songs of Scotland of the Past Half Century',\n",
       "  49824),\n",
       " (\"Jack O'Neil's Further Adventures in Holland\", 69861),\n",
       " (\"The Further Adventures of O'Neill in Holland\", 69861),\n",
       " ('Pimeyden valta eli Kun kynsi on kiinni, niin on koko lintu hukassa: 5-näytöksinen näytelmä',\n",
       "  45297),\n",
       " ('Il palazzo del diavolo, vol. 2/2 : $b Leggenda mantovana', 46272),\n",
       " ('Plain Tales of the North', 71636),\n",
       " ('From Capetown to Ladysmith: An Unfinished Record of the South African War',\n",
       "  46447),\n",
       " ('Dialstone Lane, Part 4.', 45298),\n",
       " ('Romanzen vom Rosenkranz', 60579),\n",
       " (\"Captain Mansana & Mother's Hands\", 67556),\n",
       " (\"Captain Mansana and Mother's Hands\", 67556),\n",
       " ('Charles Lever, His Life in His Letters, Vol. I', 61388),\n",
       " ('At the Post', 38915),\n",
       " ('The Portsmouth Road and Its Tributaries: To-Day and in Days of Old', 56399),\n",
       " ('Bohemian Paris of To-day\\r\\nSecond Edition', 17352),\n",
       " ('Bohemian Paris of Today', 17352),\n",
       " (\"L'Illustration, No. 0015, 10 Juin 1843\", 53470),\n",
       " ('Kastle Krags: A Story of Mystery', 58858),\n",
       " ('Taquisara', 56797),\n",
       " ('Three little kittens who lost their mittens', 4602),\n",
       " ('The Younger Sister: A Novel, Vol. II.', 12604),\n",
       " ('Mammals of the Southwest Mountains and Mesas', 43409),\n",
       " ('A Guide to Peterborough Cathedral\\r\\nComprising a brief history of the monastery from its foundation to the present time, with a descriptive account of its architectural peculiarities and recent improvements; compiled from the works of Gunton, Britton, and original & authentic documents',\n",
       "  1399),\n",
       " ('The New Guide to Peterborough Cathedral', 1399),\n",
       " ('Historic Inventions', 3630),\n",
       " ('The Marble Faun; Or, The Romance of Monte Beni - Volume 2', 17949),\n",
       " ('The Home at Greylock', 27189),\n",
       " ('Wee Macgreegor Enlists', 19681),\n",
       " ('Astrologian järjellinen perusta. Lisäys: Lasten kasvatus astrologian valossa',\n",
       "  26661),\n",
       " ('Jefferson and His Colleagues: A Chronicle of the Virginia Dynasty', 26666),\n",
       " ('The Gâtakamâlâ; Or, Garland of Birth-Stories', 19680),\n",
       " ('Esperanto Self-Taught with Phonetic Pronunciation', 9792),\n",
       " ('The Life and Amours of the Beautiful, Gay and Dashing Kate Percival\\nThe Belle of the Delaware',\n",
       "  3631),\n",
       " (\"Chambers's Journal of Popular Literature, Science, and Art, Fifth Series, No. 52, Vol. I, December 27, 1884\",\n",
       "  59195),\n",
       " (\"L'Illustration, No. 2518, 30 Mai 1891\", 52982),\n",
       " ('Forest Scenes in Norway and Sweden: Being Extracts from the Journal of a Fisherman',\n",
       "  1938),\n",
       " ('The Ballad of Reading Gaol', 67250),\n",
       " ('Mackinac and Lake Stories', 26660),\n",
       " ('The Quest: A Romance', 2600),\n",
       " ('The Desert Fiddler', 44957),\n",
       " ('Concerning Lafcadio Hearn; With a Bibliography by Laura Stedman', 45271),\n",
       " ('How to Be a Detective', 13259),\n",
       " ('Ahab Israelin kuningas: Viisinäytöksinen murhenäytelmä', 51018),\n",
       " ('The book of Scottish story : $b historical, humorous, legendary, and imaginative, selected from the works of standard Scottish authors',\n",
       "  7176),\n",
       " ('How I Filmed the War\\r\\nA Record of the Extraordinary Experiences of the Man Who Filmed the Great Somme Battles, etc.',\n",
       "  2450),\n",
       " (\"Mabel's Mistake\", 3540),\n",
       " ('The Ethnology of Europe', 2637),\n",
       " ('Punch, or the London Charivari, Vol. 109, August 24, 1895', 12379),\n",
       " ('Inventions in the Century', 45284),\n",
       " ('Due North; or, Glimpses of Scandinavia and Russia', 44956),\n",
       " ('History of the transmission of ancient books to modern times\\r\\ntogether with the process of historical proof; or, a concise account of the means by which genuineness of ancient literature generally, and the authenticity of historical works especially are ascertained including incidental remarks upon the relative strength of the evidence usually adduced in behalf of the Holy Scriptures',\n",
       "  37008),\n",
       " ('Modern Woman: Her Intentions', 38616),\n",
       " ('The Prisoners of Hartling', 26581),\n",
       " (\"A Week's Tramp in Dickens-Land\\r\\nTogether with Personal Reminiscences of the 'Inimitable Boz' Therein Collected\",\n",
       "  3541),\n",
       " ('Essays in Experimental Logic', 33266),\n",
       " ('Young Jack Harkaway Fighting the Pirates of the Red Sea', 38025),\n",
       " ('Facing the World', 986)]"
      ]
     },
     "execution_count": 44,
     "metadata": {},
     "output_type": "execute_result"
    }
   ],
   "source": [
    "books = cache.native_query(\"\"\"\n",
    "SELECT title.name, book.gutenbergbookid\n",
    "FROM books book\n",
    "JOIN book_authors book_author ON book_author.bookid = book.id\n",
    "JOIN authors author ON author.id = book_author.authorid\n",
    "JOIN titles title ON title.bookid = book.id\n",
    "WHERE author.name = 'Tolstoy, Leo, graf'\n",
    "\"\"\").fetchall()\n",
    "books"
   ]
  },
  {
   "cell_type": "code",
   "execution_count": 13,
   "id": "6e44e91e-4d0b-4bb4-806a-0c99effde63d",
   "metadata": {},
   "outputs": [],
   "source": [
    "def safe_get_text_by_id(book_id):\n",
    "    try:\n",
    "        return gutenbergpy.textget.get_text_by_id(book_id)\n",
    "    except Exception as e:\n",
    "        return None"
   ]
  },
  {
   "cell_type": "code",
   "execution_count": 47,
   "id": "fcf92c17-abc5-4b5e-b19e-108792d04df3",
   "metadata": {},
   "outputs": [],
   "source": [
    "texts = [(title, gutenbergpy.textget.strip_headers(text)) for title, book_id in books if (text := safe_get_text_by_id(book_id)) is not None]"
   ]
  },
  {
   "cell_type": "code",
   "execution_count": 48,
   "id": "e4f54e4b-4007-424e-83f8-e14abe1c14a3",
   "metadata": {},
   "outputs": [
    {
     "data": {
      "text/html": [
       "<div>\n",
       "<style scoped>\n",
       "    .dataframe tbody tr th:only-of-type {\n",
       "        vertical-align: middle;\n",
       "    }\n",
       "\n",
       "    .dataframe tbody tr th {\n",
       "        vertical-align: top;\n",
       "    }\n",
       "\n",
       "    .dataframe thead th {\n",
       "        text-align: right;\n",
       "    }\n",
       "</style>\n",
       "<table border=\"1\" class=\"dataframe\">\n",
       "  <thead>\n",
       "    <tr style=\"text-align: right;\">\n",
       "      <th></th>\n",
       "      <th>title</th>\n",
       "      <th>text</th>\n",
       "    </tr>\n",
       "  </thead>\n",
       "  <tbody>\n",
       "    <tr>\n",
       "      <th>0</th>\n",
       "      <td>Der lebende Leichnam: Drama in sechs Akten (zw...</td>\n",
       "      <td>b'\\n\\n\\n\\n\\n  +-------------------------------...</td>\n",
       "    </tr>\n",
       "    <tr>\n",
       "      <th>1</th>\n",
       "      <td>Kasakat: Kaukasialainen kertomus</td>\n",
       "      <td>b'\\n\\n\\n\\n\\n\\nKASAKAT\\n\\nKaukasialainen kertom...</td>\n",
       "    </tr>\n",
       "    <tr>\n",
       "      <th>2</th>\n",
       "      <td>La Pensée de l'Humanité\\nDernière oeuvre de L....</td>\n",
       "      <td>b\"\\nL\\xc3\\x89ON TOLSTO\\xc3\\x8f\\n\\nLa Pens\\xc3\\...</td>\n",
       "    </tr>\n",
       "    <tr>\n",
       "      <th>3</th>\n",
       "      <td>'The Kingdom of God Is Within You'\\r\\nChristia...</td>\n",
       "      <td>b'\\n\\n\\n\\n\\n\\n\\n\\n  \"THE KINGDOM OF GOD IS\\n  ...</td>\n",
       "    </tr>\n",
       "    <tr>\n",
       "      <th>4</th>\n",
       "      <td>What Shall We Do?</td>\n",
       "      <td>b'\\n\\n\\n\\n\\n\\n  [ Transcriber\\'s Notes:\\n\\n   ...</td>\n",
       "    </tr>\n",
       "    <tr>\n",
       "      <th>...</th>\n",
       "      <td>...</td>\n",
       "      <td>...</td>\n",
       "    </tr>\n",
       "    <tr>\n",
       "      <th>94</th>\n",
       "      <td>Modern Woman: Her Intentions</td>\n",
       "      <td>b'the Online Distributed Proofreading Team at\\...</td>\n",
       "    </tr>\n",
       "    <tr>\n",
       "      <th>95</th>\n",
       "      <td>A Week's Tramp in Dickens-Land\\r\\nTogether wit...</td>\n",
       "      <td>b'MOSCOW***\\n\\n\\nTranscribed from the 1887 Tom...</td>\n",
       "    </tr>\n",
       "    <tr>\n",
       "      <th>96</th>\n",
       "      <td>Essays in Experimental Logic</td>\n",
       "      <td>b\"Online Distributed Proofreading Team at http...</td>\n",
       "    </tr>\n",
       "    <tr>\n",
       "      <th>97</th>\n",
       "      <td>Young Jack Harkaway Fighting the Pirates of th...</td>\n",
       "      <td>b'\\n\\n\\n\\nTanscriber\\'s note:\\n\\n      Text en...</td>\n",
       "    </tr>\n",
       "    <tr>\n",
       "      <th>98</th>\n",
       "      <td>Facing the World</td>\n",
       "      <td>b'\\n\\n\\n\\n\\n\\n\\n\\n\\nMASTER AND MAN\\n\\nBy Leo T...</td>\n",
       "    </tr>\n",
       "  </tbody>\n",
       "</table>\n",
       "<p>99 rows × 2 columns</p>\n",
       "</div>"
      ],
      "text/plain": [
       "                                                title  \\\n",
       "0   Der lebende Leichnam: Drama in sechs Akten (zw...   \n",
       "1                    Kasakat: Kaukasialainen kertomus   \n",
       "2   La Pensée de l'Humanité\\nDernière oeuvre de L....   \n",
       "3   'The Kingdom of God Is Within You'\\r\\nChristia...   \n",
       "4                                   What Shall We Do?   \n",
       "..                                                ...   \n",
       "94                       Modern Woman: Her Intentions   \n",
       "95  A Week's Tramp in Dickens-Land\\r\\nTogether wit...   \n",
       "96                       Essays in Experimental Logic   \n",
       "97  Young Jack Harkaway Fighting the Pirates of th...   \n",
       "98                                   Facing the World   \n",
       "\n",
       "                                                 text  \n",
       "0   b'\\n\\n\\n\\n\\n  +-------------------------------...  \n",
       "1   b'\\n\\n\\n\\n\\n\\nKASAKAT\\n\\nKaukasialainen kertom...  \n",
       "2   b\"\\nL\\xc3\\x89ON TOLSTO\\xc3\\x8f\\n\\nLa Pens\\xc3\\...  \n",
       "3   b'\\n\\n\\n\\n\\n\\n\\n\\n  \"THE KINGDOM OF GOD IS\\n  ...  \n",
       "4   b'\\n\\n\\n\\n\\n\\n  [ Transcriber\\'s Notes:\\n\\n   ...  \n",
       "..                                                ...  \n",
       "94  b'the Online Distributed Proofreading Team at\\...  \n",
       "95  b'MOSCOW***\\n\\n\\nTranscribed from the 1887 Tom...  \n",
       "96  b\"Online Distributed Proofreading Team at http...  \n",
       "97  b'\\n\\n\\n\\nTanscriber\\'s note:\\n\\n      Text en...  \n",
       "98  b'\\n\\n\\n\\n\\n\\n\\n\\n\\nMASTER AND MAN\\n\\nBy Leo T...  \n",
       "\n",
       "[99 rows x 2 columns]"
      ]
     },
     "execution_count": 48,
     "metadata": {},
     "output_type": "execute_result"
    }
   ],
   "source": [
    "texts_df = pd.DataFrame(texts, columns=['title','text'])\n",
    "texts_df"
   ]
  },
  {
   "cell_type": "code",
   "execution_count": 33,
   "id": "173d7f4c-aab9-4ff3-b1c6-987a1efe5485",
   "metadata": {},
   "outputs": [
    {
     "data": {
      "text/plain": [
       "\"Der_lebende_Leichnam:_Drama_in_sechs_Akten_(zwölf_Bildern)\\nKasakat:_Kaukasialainen_kertomus\\nLa_Pensée_de_l'Humanité\\nDernière_oeuvre_de_L._Tolstoï\\n'The_Kingdom_of_God_Is_Within_You'\\r\\nChristianity_Not_as_a_Mystic_Religion_but_as_a_New_Theory_of_Life\\nWhat_Shall_We_Do?\\nSevastopol\\nMy_Religion\\nAnna_Karenina\\nWhat_Men_Live_By,_and_Other_Tales\\nLa_guerre_et_la_paix,_Tome_III\\nKatia\\nIsäntä_ja_renki\\nKreuzer-sonaatti\\nLa_guerre_et_la_paix,_Tome_II\\nThe_Bobbsey_Twins_at_Cedar_Camp\\nThe_inverted_pyramid\\nReconstruction_and_the_Constitution,_1866-1876\\nThe_Days_of_Bruce:_A_Story_from_Scottish_History._Vol._1\\nEmerson_Radio_Model_39_Warranty_Card\\nHeath's_Modern_Language_Series:_La_Mère_de_la_Marquise\\nPierre_and_Jean\\nPierre_et_Jean._English\\nThe_Smoky_God;_Or,_A_Voyage_to_the_Inner_World\\nEl_Diablo_Cojuelo\\nIndex_of_the_Project_Gutenberg_Works_of_Gustave_Flaubert\\nThe_Happy_Homicide\\nAddress_of_President_Coolidge_before_the_National_Council_of_the_Boy_Scouts_of_America\\r\\nWashington,_D._C.,_May_1,_1926\\nRobbert_Roodhaar\\nThe_Troubadours\\nPrinciples_of_politeness,_and_of_knowing_the_world\\nHistoire_comique\\nMother_West_Wind_'How'_Stories\\nThe_Thirst_Quenchers\\nA_History_of_the_British_Army,_Vol._2\\r\\nFirst_Part—to_the_Close_of_the_Seven_Years'_War\\nSisters_Three\\nRugs:_Oriental_and_Occidental,_Antique_&_Modern\\nA_Handbook_for_Ready_Reference\\nThe_Adventurers\\nAn_Outline_of_Russian_Literature\\nTom_Swift_Among_the_Diamond_Makers;_Or,_The_Secret_of_Phantom_Mountain\\nSupplement_to_Animal_Sanctuaries_in_Labrador\\r\\nSupplement_to_an_Address_Presented_by_Lt.-Colonel_William_Wood,_F.R.S.C._Before_the_Second_Annual_Meeting_of_the_Commission_of_Conservation_in_January,_1911\\nElizabethan_Sonnet_Cycles:_Phillis_-_Licia\\nThe_Mirror_of_Literature,_Amusement,_and_Instruction._Volume_10,_No._291_-_Supplement_to_Vol_10\\nFairies_and_Folk_of_Ireland\\nThe_Modern_Scottish_Minstrel,_Volumes_1-6.\\r\\nThe_Songs_of_Scotland_of_the_Past_Half_Century\\nJack_O'Neil's_Further_Adventures_in_Holland\\nThe_Further_Adventures_of_O'Neill_in_Holland\\nPimeyden_valta_eli_Kun_kynsi_on_kiinni,_niin_on_koko_lintu_hukassa:_5-näytöksinen_näytelmä\\nIl_palazzo_del_diavolo,_vol._2/2_:_$b_Leggenda_mantovana\\nPlain_Tales_of_the_North\\nFrom_Capetown_to_Ladysmith:_An_Unfinished_Record_of_the_South_African_War\\nDialstone_Lane,_Part_4.\\nRomanzen_vom_Rosenkranz\\nCaptain_Mansana_&_Mother's_Hands\\nCaptain_Mansana_and_Mother's_Hands\\nCharles_Lever,_His_Life_in_His_Letters,_Vol._I\\nAt_the_Post\\nThe_Portsmouth_Road_and_Its_Tributaries:_To-Day_and_in_Days_of_Old\\nBohemian_Paris_of_To-day\\r\\nSecond_Edition\\nBohemian_Paris_of_Today\\nL'Illustration,_No._0015,_10_Juin_1843\\nKastle_Krags:_A_Story_of_Mystery\\nTaquisara\\nThree_little_kittens_who_lost_their_mittens\\nThe_Younger_Sister:_A_Novel,_Vol._II.\\nMammals_of_the_Southwest_Mountains_and_Mesas\\nA_Guide_to_Peterborough_Cathedral\\r\\nComprising_a_brief_history_of_the_monastery_from_its_foundation_to_the_present_time,_with_a_descriptive_account_of_its_architectural_peculiarities_and_recent_improvements;_compiled_from_the_works_of_Gunton,_Britton,_and_original_&_authentic_documents\\nThe_New_Guide_to_Peterborough_Cathedral\\nHistoric_Inventions\\nThe_Marble_Faun;_Or,_The_Romance_of_Monte_Beni_-_Volume_2\\nThe_Home_at_Greylock\\nWee_Macgreegor_Enlists\\nAstrologian_järjellinen_perusta._Lisäys:_Lasten_kasvatus_astrologian_valossa\\nJefferson_and_His_Colleagues:_A_Chronicle_of_the_Virginia_Dynasty\\nThe_Gâtakamâlâ;_Or,_Garland_of_Birth-Stories\\nEsperanto_Self-Taught_with_Phonetic_Pronunciation\\nThe_Life_and_Amours_of_the_Beautiful,_Gay_and_Dashing_Kate_Percival\\nThe_Belle_of_the_Delaware\\nChambers's_Journal_of_Popular_Literature,_Science,_and_Art,_Fifth_Series,_No._52,_Vol._I,_December_27,_1884\\nL'Illustration,_No._2518,_30_Mai_1891\\nForest_Scenes_in_Norway_and_Sweden:_Being_Extracts_from_the_Journal_of_a_Fisherman\\nThe_Ballad_of_Reading_Gaol\\nMackinac_and_Lake_Stories\\nThe_Quest:_A_Romance\\nThe_Desert_Fiddler\\nConcerning_Lafcadio_Hearn;_With_a_Bibliography_by_Laura_Stedman\\nHow_to_Be_a_Detective\\nAhab_Israelin_kuningas:_Viisinäytöksinen_murhenäytelmä\\nThe_book_of_Scottish_story_:_$b_historical,_humorous,_legendary,_and_imaginative,_selected_from_the_works_of_standard_Scottish_authors\\nHow_I_Filmed_the_War\\r\\nA_Record_of_the_Extraordinary_Experiences_of_the_Man_Who_Filmed_the_Great_Somme_Battles,_etc.\\nMabel's_Mistake\\nThe_Ethnology_of_Europe\\nPunch,_or_the_London_Charivari,_Vol._109,_August_24,_1895\\nInventions_in_the_Century\\nDue_North;_or,_Glimpses_of_Scandinavia_and_Russia\\nHistory_of_the_transmission_of_ancient_books_to_modern_times\\r\\ntogether_with_the_process_of_historical_proof;_or,_a_concise_account_of_the_means_by_which_genuineness_of_ancient_literature_generally,_and_the_authenticity_of_historical_works_especially_are_ascertained_including_incidental_remarks_upon_the_relative_strength_of_the_evidence_usually_adduced_in_behalf_of_the_Holy_Scriptures\\nModern_Woman:_Her_Intentions\\nA_Week's_Tramp_in_Dickens-Land\\r\\nTogether_with_Personal_Reminiscences_of_the_'Inimitable_Boz'_Therein_Collected\\nEssays_in_Experimental_Logic\\nYoung_Jack_Harkaway_Fighting_the_Pirates_of_the_Red_Sea\\nFacing_the_World\""
      ]
     },
     "execution_count": 33,
     "metadata": {},
     "output_type": "execute_result"
    }
   ],
   "source": [
    "\"\\n\".join(texts_df[\"title\"].to_list()).replace(\" \", \"_\")"
   ]
  },
  {
   "cell_type": "code",
   "execution_count": 30,
   "id": "a0224490-d100-4258-b69d-9e630e9d36d7",
   "metadata": {},
   "outputs": [],
   "source": [
    "for title, text in texts:\n",
    "    try:\n",
    "        with open(\"public/books/\"+title.replace(\" \", \"_\")+\".txt\", \"a\") as w:\n",
    "            w.write(str(text))\n",
    "    except:\n",
    "        continue"
   ]
  }
 ],
 "metadata": {
  "kernelspec": {
   "display_name": "Python 3 (ipykernel)",
   "language": "python",
   "name": "python3"
  },
  "language_info": {
   "codemirror_mode": {
    "name": "ipython",
    "version": 3
   },
   "file_extension": ".py",
   "mimetype": "text/x-python",
   "name": "python",
   "nbconvert_exporter": "python",
   "pygments_lexer": "ipython3",
   "version": "3.12.3"
  }
 },
 "nbformat": 4,
 "nbformat_minor": 5
}
